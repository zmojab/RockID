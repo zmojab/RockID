{
  "nbformat": 4,
  "nbformat_minor": 0,
  "metadata": {
    "colab": {
      "provenance": [],
      "gpuType": "T4"
    },
    "kernelspec": {
      "name": "python3",
      "display_name": "Python 3"
    },
    "language_info": {
      "name": "python"
    },
    "accelerator": "GPU"
  },
  "cells": [
    {
      "cell_type": "code",
      "execution_count": null,
      "metadata": {
        "id": "SOkHkRYMSLq5"
      },
      "outputs": [],
      "source": [
        "from keras.applications import Xception\n",
        "from keras.models import Model\n",
        "from keras.layers import Dense, GlobalAveragePooling2D, BatchNormalization\n",
        "from keras.preprocessing.image import ImageDataGenerator\n",
        "import tensorflow as tf\n",
        "from keras import layers\n"
      ]
    },
    {
      "cell_type": "code",
      "source": [
        "img_width=299\n",
        "img_height=299\n",
        "batch_size=16\n",
        "num_of_classes=70\n",
        "IMG_SIZE=299\n",
        "\n",
        "\n",
        "training_set_directory = \"/content/drive/MyDrive/Datasets/polishedGemstones/train\"\n",
        "validation_set_directory = \"/content/drive/MyDrive/Datasets/polishedGemstones/val\"\n",
        "test_set_directory = \"/content/drive/MyDrive/Datasets/polishedGemstones/test\"\n"
      ],
      "metadata": {
        "id": "mpE2nZmZSW37"
      },
      "execution_count": null,
      "outputs": []
    },
    {
      "cell_type": "code",
      "source": [
        "train_data = ImageDataGenerator(\n",
        "    rotation_range=15,\n",
        "    width_shift_range=0.1,\n",
        "    height_shift_range=0.1,\n",
        "    horizontal_flip=True,\n",
        "                                   )\n",
        "\n",
        "validation_data = ImageDataGenerator (\n",
        "                                      horizontal_flip=True,\n",
        "                                      vertical_flip = True,\n",
        "                                    )\n",
        "\n",
        "test_data = ImageDataGenerator ( rescale=1.0/255.0,\n",
        "                                      horizontal_flip=True,\n",
        "                                      vertical_flip = True,\n",
        "                                    )\n"
      ],
      "metadata": {
        "id": "ofqsMT61SpkA"
      },
      "execution_count": null,
      "outputs": []
    },
    {
      "cell_type": "code",
      "source": [
        "training_gen = train_data.flow_from_directory(training_set_directory,\n",
        "                                                 batch_size = batch_size,\n",
        "                                                 class_mode = 'categorical',\n",
        "                                                 shuffle = True,\n",
        "                                                 target_size = (img_height, img_width),\n",
        "                                           # subset='training')\n",
        ")\n",
        "\n",
        "validation_gen = validation_data.flow_from_directory(validation_set_directory,\n",
        "                                                     batch_size = batch_size,\n",
        "                                                     class_mode = 'categorical',\n",
        "                                                     shuffle = True,\n",
        "                                                     target_size = (img_height, img_width),\n",
        "                                                     #subset='validation')\n",
        ")\n",
        "\n",
        "test_gen = test_data.flow_from_directory(test_set_directory,\n",
        "                                                     batch_size = batch_size,\n",
        "                                                     class_mode = 'categorical',\n",
        "                                                     shuffle = True,\n",
        "                                                     target_size = (img_height, img_width),\n",
        "                                                     #subset='validation')\n",
        ")"
      ],
      "metadata": {
        "colab": {
          "base_uri": "https://localhost:8080/"
        },
        "id": "AH6HwxSlS1ff",
        "outputId": "2aa323d8-97e0-40dd-afa4-acdcfc93c977"
      },
      "execution_count": null,
      "outputs": [
        {
          "output_type": "stream",
          "name": "stdout",
          "text": [
            "Found 6542 images belonging to 70 classes.\n",
            "Found 1857 images belonging to 70 classes.\n",
            "Found 1000 images belonging to 70 classes.\n"
          ]
        }
      ]
    },
    {
      "cell_type": "code",
      "source": [
        "def build_model(num_classes):\n",
        "    inputs = layers.Input(shape=(IMG_SIZE, IMG_SIZE, 3))\n",
        "    x = tf.keras.applications.xception.preprocess_input(inputs)\n",
        "    base_model = tf.keras.applications.Xception(weights='imagenet', include_top=False, input_shape=(IMG_SIZE, IMG_SIZE, 3))\n",
        "\n",
        "\n",
        "    base_model.trainable = False\n",
        "\n",
        "\n",
        "    x = base_model(x, training=False)\n",
        "    x = layers.GlobalAveragePooling2D(name=\"avg_pool\")(x)\n",
        "    x = layers.BatchNormalization()(x)\n",
        "\n",
        "\n",
        "    x = layers.Dense(512, activation=\"relu\")(x)\n",
        "    x = layers.BatchNormalization()(x)\n",
        "    x = layers.Dropout(0.5)(x)\n",
        "\n",
        "    x = layers.Dense(256, activation=\"relu\")(x)\n",
        "    x = layers.BatchNormalization()(x)\n",
        "    x = layers.Dropout(0.5)(x)\n",
        "\n",
        "\n",
        "    outputs = layers.Dense(num_classes, activation=\"softmax\", name=\"pred\")(x)\n",
        "\n",
        "\n",
        "    model = tf.keras.Model(inputs, outputs, name=\"Xception\")\n",
        "    optimizer = tf.keras.optimizers.Adam(learning_rate=1e-2)\n",
        "    model.compile(\n",
        "        optimizer=optimizer, loss=\"categorical_crossentropy\", metrics=[\"accuracy\"]\n",
        "    )\n",
        "    return model"
      ],
      "metadata": {
        "id": "CfjPh8E4UBFc"
      },
      "execution_count": null,
      "outputs": []
    },
    {
      "cell_type": "code",
      "source": [
        "checkpoint_filepath = '/tmp/checkpoint'\n",
        "model_checkpoint_callback = tf.keras.callbacks.ModelCheckpoint(\n",
        "    filepath=checkpoint_filepath,\n",
        "    save_weights_only=True,\n",
        "    monitor='val_accuracy',\n",
        "    mode='max',\n",
        "    save_best_only=True)"
      ],
      "metadata": {
        "id": "BxqRDMcsUlTV"
      },
      "execution_count": null,
      "outputs": []
    },
    {
      "cell_type": "code",
      "source": [
        "model = build_model(70)\n",
        "for layer in model.layers:\n",
        "    if 'batch_normalization' not in layer.name:\n",
        "        layer.trainable = True\n",
        "hist = model.fit(training_gen, epochs=30, validation_data=validation_gen, verbose=1, callbacks=[model_checkpoint_callback])"
      ],
      "metadata": {
        "id": "8QReAGESUfJI"
      },
      "execution_count": null,
      "outputs": []
    },
    {
      "cell_type": "code",
      "source": [
        "checkpoint_filepath2 = '/tmp/checkpoint2'\n",
        "model_checkpoint_callback2 = tf.keras.callbacks.ModelCheckpoint(\n",
        "    filepath=checkpoint_filepath2,\n",
        "    save_weights_only=True,\n",
        "    monitor='val_accuracy',\n",
        "    mode='max',\n",
        "    save_best_only=True)"
      ],
      "metadata": {
        "id": "j9nxrPP2djsn"
      },
      "execution_count": null,
      "outputs": []
    },
    {
      "cell_type": "code",
      "source": [
        "for layer in model.layers:\n",
        "    if 'batch_normalization' not in layer.name:\n",
        "        layer.trainable = True"
      ],
      "metadata": {
        "id": "wM3o4SO6dx7W"
      },
      "execution_count": null,
      "outputs": []
    },
    {
      "cell_type": "code",
      "source": [
        "optimizer = tf.keras.optimizers.Adam(learning_rate=1e-4)\n",
        "\n",
        "model.compile(\n",
        "        optimizer=optimizer, loss=\"categorical_crossentropy\", metrics=[\"accuracy\"]\n",
        "    )"
      ],
      "metadata": {
        "id": "BPlvTa15d5CR"
      },
      "execution_count": null,
      "outputs": []
    },
    {
      "cell_type": "code",
      "source": [
        "model.load_weights(checkpoint_filepath)"
      ],
      "metadata": {
        "colab": {
          "base_uri": "https://localhost:8080/"
        },
        "id": "tbWC-HW2eJgK",
        "outputId": "081418dd-7fbc-4022-9865-ff8c66cd6033"
      },
      "execution_count": null,
      "outputs": [
        {
          "output_type": "execute_result",
          "data": {
            "text/plain": [
              "<tensorflow.python.checkpoint.checkpoint.CheckpointLoadStatus at 0x7f164005f7f0>"
            ]
          },
          "metadata": {},
          "execution_count": 52
        }
      ]
    },
    {
      "cell_type": "code",
      "source": [
        "epochs = 50\n",
        "hist = model.fit(training_gen, epochs=epochs, validation_data=validation_gen, verbose=1, callbacks=[model_checkpoint_callback2])"
      ],
      "metadata": {
        "id": "653WXNASeQaM"
      },
      "execution_count": null,
      "outputs": []
    }
  ]
}